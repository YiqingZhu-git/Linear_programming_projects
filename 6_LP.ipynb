{
 "cells": [
  {
   "cell_type": "markdown",
   "id": "d955680b-cd5b-412f-93c1-27f60b00f6d6",
   "metadata": {},
   "source": [
    "## Learning Portfolio 6: Solving Bin Packing Problem by using CVSPY"
   ]
  },
  {
   "cell_type": "markdown",
   "id": "a36e8bb4-9629-4a66-8f80-ce534d76a523",
   "metadata": {},
   "source": [
    "### 1. Problem\n",
    "- Assume a finite set $I$ of items, a size $s(i) \\in \\mathbb{N}^+$, There is also a positive bin capacity $B$, and a positive integer $K$, $K$ represents the least bin that used to put all of items $I$ inside.\n",
    "\n",
    "### 2. Question\n",
    "- What is a minimum partition of $I$ into disjoint set $I_{1} \\dots I_{K}$? and the minimum number of bin we used is the optimization.\n",
    "\n",
    "### 3. Mathematical Expression of Bin Packing Problem\n",
    "Objective Function:\n",
    "$$\n",
    "\\begin{array}{rc}\n",
    "\\text{Minimum:} & K = \\sum_{j = 1}^{n} y_{j}  \\\\\n",
    "\\text{Subject to:} & K \\ge 1\\\\\n",
    "& \\sum_{j = 1}^{n} x_{ij} = 1 \\\\\n",
    "& \\sum_{i \\in I}^{n} s(i) x_{ij} \\leq By_{j}    \\qquad   \\forall j\\in \\{1 \\dots n\\} \\\\\n",
    "\\\\\n",
    "&\\qquad y_{j} \\in \\{0,1\\}, \\qquad  \\forall j\\in \\{1 \\dots n\\} \\\\\n",
    "& x_{ij} \\in \\{0,1\\}, \\qquad \\forall i \\in I\\\\ \n",
    "\\end{array}\n",
    "$$\n",
    "\n"
   ]
  },
  {
   "cell_type": "markdown",
   "id": "89a2cbe1-6a5c-494c-ae7b-949b7c6c8454",
   "metadata": {},
   "source": [
    "- The goal is to minimize the total used bin $\\sum y_{j}$, each $y_{j}$ is either 0 or 1 for representing it is not used or used. \n",
    "- $x_{ij}$ records whether item $i$ is inside bin $j$, for a specific item $i$ can only be put in one bin $j$,   $\\forall j\\in \\{1 \\dots n\\}$ \n",
    "- $B$ is a constant bin capacity\n",
    "- $\\sum_{i \\in I}^{n} s(i) x_{ij}$ is the sum of items that put in bin $y_{j}$. Therefore, we constraints that the items inside can not be greater than the bin capacity $B$ for all bins. $\\sum_{i \\in I}^{n} s(i) x_{ij} \\leq By_{j}$"
   ]
  },
  {
   "cell_type": "code",
   "execution_count": 1,
   "id": "d084cbaa-dd70-42ea-9fb8-e355e71ed2cc",
   "metadata": {},
   "outputs": [
    {
     "name": "stdout",
     "output_type": "stream",
     "text": [
      "Requirement already satisfied: cvxpy in /opt/conda/lib/python3.10/site-packages (1.2.2)\n",
      "Requirement already satisfied: scs>=1.1.6 in /opt/conda/lib/python3.10/site-packages (from cvxpy) (3.2.2)\n",
      "Requirement already satisfied: numpy>=1.15 in /opt/conda/lib/python3.10/site-packages (from cvxpy) (1.22.4)\n",
      "Requirement already satisfied: scipy>=1.1.0 in /opt/conda/lib/python3.10/site-packages (from cvxpy) (1.9.1)\n",
      "Requirement already satisfied: osqp>=0.4.1 in /opt/conda/lib/python3.10/site-packages (from cvxpy) (0.6.2.post8)\n",
      "Requirement already satisfied: ecos>=2 in /opt/conda/lib/python3.10/site-packages (from cvxpy) (2.0.10)\n",
      "Requirement already satisfied: qdldl in /opt/conda/lib/python3.10/site-packages (from osqp>=0.4.1->cvxpy) (0.1.5.post2)\n",
      "Note: you may need to restart the kernel to use updated packages.\n"
     ]
    }
   ],
   "source": [
    "pip install cvxpy"
   ]
  },
  {
   "cell_type": "code",
   "execution_count": 2,
   "id": "ad7d5b6a-d694-460a-a556-c782ef364d89",
   "metadata": {},
   "outputs": [],
   "source": [
    "import numpy as np\n",
    "import cvxpy as cp\n",
    "import matplotlib.pyplot as plt"
   ]
  },
  {
   "cell_type": "code",
   "execution_count": 3,
   "id": "ee63b676-9d72-4851-bc44-aa752a5e8d35",
   "metadata": {},
   "outputs": [],
   "source": [
    "# Data\n",
    "volumn_in_order = [6, 10, 12, 5, 5, 3, 8, 4] # items volumn\n",
    "\n",
    "B = 20 # capacity of bins\n",
    "\n",
    "n = len(volumn_in_order) "
   ]
  },
  {
   "cell_type": "markdown",
   "id": "9a3ea68c-3b05-4fb9-a6c8-fcc30477a42e",
   "metadata": {},
   "source": [
    "#### The visualization of each items and its volumn $s(i)$"
   ]
  },
  {
   "cell_type": "code",
   "execution_count": 4,
   "id": "8bace6e3-d27e-46c8-bc6e-e2bcb4cf9f14",
   "metadata": {},
   "outputs": [
    {
     "data": {
      "image/png": "[encoded data removed]",
      "text/plain": [
       "<Figure size 2000x500 with 1 Axes>"
      ]
     },
     "metadata": {},
     "output_type": "display_data"
    }
   ],
   "source": [
    "plt.figure(figsize=(20,5))\n",
    "plt.xlabel(\"items i\") \n",
    "plt.ylabel(\"s(i)\")\n",
    "plt.bar(range(1, n+1),volumn_in_order), plt.grid(True), plt.savefig('fig1.png',dpi=300)\n",
    "plt.show()"
   ]
  },
  {
   "cell_type": "markdown",
   "id": "4404696b-b1a3-4b5e-a155-eedae87b436d",
   "metadata": {},
   "source": [
    "### Variables"
   ]
  },
  {
   "cell_type": "code",
   "execution_count": 5,
   "id": "cba3cdbb-444b-46b1-885f-71b26b501046",
   "metadata": {},
   "outputs": [],
   "source": [
    "#Optimization, the number of box to minimize\n",
    "K = n + 1\n",
    "bin_used = cp.Variable(n, boolean = True) \n",
    "matrix_ij = cp.Variable((n,n),boolean = True) #x_ij, i = box , j =items i->j \n",
    "x = cp.Variable(n, boolean = True)"
   ]
  },
  {
   "cell_type": "markdown",
   "id": "ace74c08-fa4b-40cf-91b7-2d2937500d81",
   "metadata": {
    "tags": []
   },
   "source": [
    "### Fail Test of the arrangement of $x_{ij}$ in CVXPY\n",
    "- In the first case, I arrage the $x_{ij}$ as item $i$ put in the bin $j$. It can not approach to a optimatization CVSPY output, and I test it in a small case. It turns out the false volumn"
   ]
  },
  {
   "cell_type": "markdown",
   "id": "33dc9b4b-5660-4d57-a9d0-fe51d659731e",
   "metadata": {},
   "source": [
    "matrix_ij\n",
    "$$\n",
    "\\text{bin item (matrix_ij)} = \\left[ \\begin{array}{rrr} x_{1,1} & \\dots & x_{1,n} \\\\ x_{2,1} & \\dots & x_{2,n} \\\\ \\dots \\\\ x_{n,1} &\\dots & x_{n,n} \\\\\\end{array} \\right]\n",
    "\\hspace{1in}\n",
    "$$\n"
   ]
  },
  {
   "cell_type": "code",
   "execution_count": 6,
   "id": "5e2e5afa-3c49-46ef-8a5d-975d7d1f340e",
   "metadata": {},
   "outputs": [
    {
     "data": {
      "text/plain": [
       "array([1, 2, 1, 1])"
      ]
     },
     "execution_count": 6,
     "metadata": {},
     "output_type": "execute_result"
    }
   ],
   "source": [
    "#----------------------\n",
    "# Bin #1 : item 1 / 3 / 4\n",
    "# Bin #2 : item 2\n",
    "#----------------------\n",
    "Map = [[1,0,0,0],\n",
    "       [0,1,0,0],\n",
    "       [1,0,0,0],\n",
    "       [1,0,0,0]]\n",
    "\n",
    "Marr = np.array(Map)\n",
    "\n",
    "Item_order = [1,2,3,4] #item volumn \n",
    "\n",
    "Item_order_arr = np.array(Item_order)\n",
    "\n",
    "Marr @ Item_order_arr #output is supposed to be ([8,2,0,0]) as Bin#1 : 1+3+4  Bin#2: 2 Bin#3: 0 Bin #4: 0"
   ]
  },
  {
   "cell_type": "markdown",
   "id": "33a3fbfa-b3d4-4c31-beff-9d88690236f5",
   "metadata": {},
   "source": [
    "### Another try: What if we switch the order of $x_{ij}$ to $x_{ji}$? \n",
    "- For the meaning that bin $j$ has the item $i$, swith the column and row"
   ]
  },
  {
   "cell_type": "code",
   "execution_count": 7,
   "id": "d5a3207a-9392-4e1c-9c87-a3048b81da1e",
   "metadata": {},
   "outputs": [
    {
     "data": {
      "text/plain": [
       "array([8, 2, 0, 0])"
      ]
     },
     "execution_count": 7,
     "metadata": {},
     "output_type": "execute_result"
    }
   ],
   "source": [
    "#----------------------\n",
    "# Bin #1 : item 1 / 3 / 4\n",
    "# Bin #2 : item 2\n",
    "#----------------------\n",
    "Map2 = [[1,0,1,1],\n",
    "        [0,1,0,0],\n",
    "        [0,0,0,0],\n",
    "        [0,0,0,0]]\n",
    "\n",
    "Marr2 = np.array(Map2)\n",
    "\n",
    "Marr2 @ Item_order_arr "
   ]
  },
  {
   "cell_type": "markdown",
   "id": "255217fa-1610-4c25-a086-456e607ea2ee",
   "metadata": {},
   "source": [
    "### Constraints\n",
    "The success of the order switch gives the project a correct volumn contained in each bin, and in this way we can set the correct constraint that\n",
    "- The number of bin used should be greater than 1\n",
    "- The volumn of all items associated to a bin should not exceed the capacity of the bin\n",
    "- Each item allocated once in one bin, the sum of each column of matrix_ij should be 1."
   ]
  },
  {
   "cell_type": "code",
   "execution_count": 8,
   "id": "c194b9be-514f-43b8-9f3e-680f90e6a477",
   "metadata": {},
   "outputs": [],
   "source": [
    "# CONSTRAINTS\n",
    "constraints = [cp.sum(bin_used) >= 1,\n",
    "               \n",
    "               cp.sum(matrix_ij, axis = 0) == 1 ,# the sum of each column = 1  \n",
    "                \n",
    "               matrix_ij @ volumn_in_order <= B, # The volumn of all items associated to one bin should not exceed the capacity of the bin B\n",
    "               \n",
    "               cp.sum(matrix_ij, axis=1) <= bin_used * n] #if the bin is used, the bin cannot contain all the items inside\n",
    "\n",
    "problem = cp.Problem(cp.Minimize(cp.sum(bin_used)), constraints)"
   ]
  },
  {
   "cell_type": "markdown",
   "id": "6662a7bc-ce65-4610-a1f2-f6424848e37b",
   "metadata": {},
   "source": [
    "### Problem Solving"
   ]
  },
  {
   "cell_type": "code",
   "execution_count": 9,
   "id": "80bea8ab-c8d5-456d-9648-76d386a1e6ac",
   "metadata": {},
   "outputs": [
    {
     "name": "stdout",
     "output_type": "stream",
     "text": [
      "optimal\n",
      "3.0\n",
      "[[0. 1. 0. 0. 0. 0. 1. 0.]\n",
      " [1. 0. 0. 1. 1. 0. 0. 1.]\n",
      " [0. 0. 0. 0. 0. 0. 0. 0.]\n",
      " [0. 0. 0. 0. 0. 0. 0. 0.]\n",
      " [0. 0. 0. 0. 0. 0. 0. 0.]\n",
      " [0. 0. 0. 0. 0. 0. 0. 0.]\n",
      " [0. 0. 1. 0. 0. 1. 0. 0.]\n",
      " [0. 0. 0. 0. 0. 0. 0. 0.]]\n"
     ]
    }
   ],
   "source": [
    "problem = cp.Problem(cp.Minimize(cp.sum(bin_used)), constraints)\n",
    "problem.solve()\n",
    "print(problem.status)\n",
    "print(problem.value)\n",
    "print(matrix_ij.value)"
   ]
  },
  {
   "cell_type": "markdown",
   "id": "d2c9029a-d062-435c-951a-96cddc840e9b",
   "metadata": {},
   "source": [
    "## Final Result"
   ]
  },
  {
   "cell_type": "code",
   "execution_count": 10,
   "id": "589185c7-c8c4-45c3-8fb3-027c477575d8",
   "metadata": {},
   "outputs": [
    {
     "data": {
      "image/png": "[encoded data removed]",
      "text/plain": [
       "<Figure size 2000x200 with 1 Axes>"
      ]
     },
     "metadata": {},
     "output_type": "display_data"
    }
   ],
   "source": [
    "result_1 = [18,20,15]\n",
    "plt.figure(figsize=(20,2))\n",
    "plt.xlabel(\"Bin j\") \n",
    "plt.ylabel(\"Volumn\")\n",
    "plt.bar(range(1, 4),result_1), plt.grid(True), plt.savefig('fig2.png',dpi=300)\n",
    "plt.show()"
   ]
  },
  {
   "cell_type": "markdown",
   "id": "e659ab70-1f56-4fd7-bffe-b651f56ee646",
   "metadata": {},
   "source": [
    "### Other Examples"
   ]
  },
  {
   "cell_type": "code",
   "execution_count": 11,
   "id": "981ad8b8-58e4-4195-bbe5-02fa5e5d6a91",
   "metadata": {},
   "outputs": [
    {
     "data": {
      "text/plain": [
       "array([15,  1,  3,  3,  2,  8,  5, 17,  4])"
      ]
     },
     "execution_count": 11,
     "metadata": {},
     "output_type": "execute_result"
    }
   ],
   "source": [
    "volumn_in_order1 = np.random.randint(low=1, high=20, size=9)# items volumn\n",
    "\n",
    "volumn_in_order1"
   ]
  },
  {
   "cell_type": "code",
   "execution_count": 12,
   "id": "05c5a2d9-b70b-4577-8323-45387e54e726",
   "metadata": {},
   "outputs": [
    {
     "name": "stdout",
     "output_type": "stream",
     "text": [
      "optimal\n",
      "3.0\n",
      "[[0. 0. 1. 1. 1. 1. 0. 0. 1.]\n",
      " [0. 0. 0. 0. 0. 0. 0. 0. 0.]\n",
      " [0. 0. 0. 0. 0. 0. 0. 0. 0.]\n",
      " [0. 0. 0. 0. 0. 0. 0. 0. 0.]\n",
      " [0. 0. 0. 0. 0. 0. 0. 0. 0.]\n",
      " [0. 0. 0. 0. 0. 0. 0. 0. 0.]\n",
      " [0. 1. 0. 0. 0. 0. 0. 1. 0.]\n",
      " [1. 0. 0. 0. 0. 0. 1. 0. 0.]\n",
      " [0. 0. 0. 0. 0. 0. 0. 0. 0.]]\n"
     ]
    }
   ],
   "source": [
    "def BinPicking_solver(volumn_in_order, B):\n",
    "    n = len(volumn_in_order) \n",
    "    \n",
    "    #Optimization, the number of box to minimize\n",
    "    K = n + 1\n",
    "    bin_used = cp.Variable(n, boolean = True) \n",
    "    matrix_ij = cp.Variable((n,n),boolean = True) #x_ij, i = box , j =items i->j \n",
    "    x = cp.Variable(n, boolean = True)\n",
    "    \n",
    "    # CONSTRAINTS\n",
    "    constraints = [cp.sum(bin_used) >= 1,\n",
    "\n",
    "                   cp.sum(matrix_ij, axis = 0) == 1 ,# the sum of each column = 1  \n",
    "\n",
    "                   matrix_ij @ volumn_in_order <= B, # The volumn of all items associated to one bin should not exceed the capacity of the bin B\n",
    "\n",
    "                   cp.sum(matrix_ij, axis=1) <= bin_used * n] #if the bin is used, the bin cannot contain all the items inside\n",
    "\n",
    "    problem = cp.Problem(cp.Minimize(cp.sum(bin_used)), constraints)\n",
    "    \n",
    "    \n",
    "    problem = cp.Problem(cp.Minimize(cp.sum(bin_used)), constraints)\n",
    "    problem.solve()\n",
    "    print(problem.status)\n",
    "    print(problem.value)\n",
    "    print(matrix_ij.value)\n",
    "\n",
    "BinPicking_solver(volumn_in_order1,20)"
   ]
  },
  {
   "cell_type": "code",
   "execution_count": null,
   "id": "5746b7c8-392b-4104-bedd-bb0ecb5b5b0b",
   "metadata": {},
   "outputs": [],
   "source": []
  }
 ],
 "metadata": {
  "kernelspec": {
   "display_name": "Python 3 (ipykernel)",
   "language": "python",
   "name": "python3"
  },
  "language_info": {
   "codemirror_mode": {
    "name": "ipython",
    "version": 3
   },
   "file_extension": ".py",
   "mimetype": "text/x-python",
   "name": "python",
   "nbconvert_exporter": "python",
   "pygments_lexer": "ipython3",
   "version": "3.10.6"
  }
 },
 "nbformat": 4,
 "nbformat_minor": 5
}
