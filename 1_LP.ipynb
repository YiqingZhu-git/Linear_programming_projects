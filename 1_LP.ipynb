{
 "cells": [
  {
   "cell_type": "markdown",
   "id": "ec91a0bb-c6be-4c0b-b8f7-b3165d3236fb",
   "metadata": {},
   "source": [
    "# MATH 441 Learning Portfolio 1 \n",
    "\n",
    "## September 23, 2022"
   ]
  },
  {
   "cell_type": "markdown",
   "id": "02a64be6-d30d-4ade-a376-339ef710d609",
   "metadata": {},
   "source": [
    "In the first two weeks of course, I have learned how to solve a linear optimization problem by using python to transfer the given data to a certain form, and then take the pivot operations to approach the optimal solution. \n",
    "\n",
    "In the first portfolio, I will solve a linear programming problem.\n",
    "- 1. Solving the problem by using pivot operation. \n",
    "- 2. Checking the result by SciPy Solver"
   ]
  },
  {
   "cell_type": "code",
   "execution_count": 2,
   "id": "c28cc290-a7c0-45da-8857-afd135e76e90",
   "metadata": {},
   "outputs": [],
   "source": [
    "import numpy as np\n",
    "import scipy.linalg as la\n",
    "import matplotlib.pyplot as plt"
   ]
  },
  {
   "cell_type": "markdown",
   "id": "a640da0f-52c6-4d1a-b7e6-ee23eb3e1194",
   "metadata": {},
   "source": [
    "$$\n",
    "\\begin{array}{rc}\n",
    "\\text{Maximize:} & z = 3x_1 + 2x_2 + 4x_3  \\\\\n",
    "\\text{Subject to:} & x_1 + x_2 + 2x_3  \\leqslant  4 \\\\\n",
    "& 2x_1\\qquad + 3x_3 \\leqslant 5 \\\\\n",
    "& 2x_1 + x_2 + 3x_3 \\leqslant 7 \\\\\n",
    "& x_1 \\geq 0, x_2 \\geq 0, x_3\\geq 0\n",
    "\\end{array}\n",
    "$$\n"
   ]
  },
  {
   "cell_type": "markdown",
   "id": "2e4b2313-d54e-4312-8d00-5f9bbc55e7e4",
   "metadata": {},
   "source": [
    "Present the problem in matrix"
   ]
  },
  {
   "cell_type": "markdown",
   "id": "e2846e9b-63a5-4c3e-8606-79c4ed32861e",
   "metadata": {},
   "source": [
    "\n",
    "$$\n",
    "A = \\left[ \\begin{array}{rrr} 1 & 1 & 2 \\\\ 2 & 0 & 3 \\\\ 2 & 1 & 3 \\end{array} \\right]\n",
    "\\hspace{1in}\n",
    "\\mathbf{b} = \\left[ \\begin{array}{r} 4 \\\\ 5 \\\\ 7\\end{array} \\right]\n",
    "\\hspace{1in}\n",
    "\\mathbf{c} = \\left[ \\begin{array}{r} 3 \\\\ 2 \\\\ 4 \\end{array} \\right]\n",
    "$$\n"
   ]
  },
  {
   "cell_type": "markdown",
   "id": "86f4590a-f998-4895-b154-0039debf6d3e",
   "metadata": {},
   "source": [
    "**Step 1: Combining the matrix together in the T form**"
   ]
  },
  {
   "cell_type": "markdown",
   "id": "3eee2e8c-2d38-4710-8f27-104515ec289c",
   "metadata": {},
   "source": [
    "$$\n",
    "T = \n",
    "\\begin{bmatrix}\n",
    "A & I & \\mathbf{b} \\\\\n",
    "\\mathbf{c}^T & 0 & 0\n",
    "\\end{bmatrix}\n",
    "$$\n"
   ]
  },
  {
   "cell_type": "code",
   "execution_count": 15,
   "id": "13d67be4-85ed-40f6-bc90-8a5d172f008d",
   "metadata": {},
   "outputs": [
    {
     "name": "stdout",
     "output_type": "stream",
     "text": [
      "[[1. 1. 2. 1. 0. 0. 4.]\n",
      " [2. 0. 3. 0. 1. 0. 5.]\n",
      " [2. 1. 3. 0. 0. 1. 7.]\n",
      " [3. 2. 4. 0. 0. 0. 0.]]\n"
     ]
    }
   ],
   "source": [
    "A = np.array([[1.,1.,2.],[2.,0.,3.],[2.,1.,3.]])\n",
    "m,n = A.shape\n",
    "I = np.eye(m)\n",
    "c = np.array([3.,2.,4.])\n",
    "b = np.array([4.,5.,7.])\n",
    "T = np.vstack([ np.hstack([A,I,b.reshape((m,1))]) , np.hstack([c,np.zeros(m+1)]) ])\n",
    "print(T)"
   ]
  },
  {
   "cell_type": "markdown",
   "id": "d54af413-9ee9-4d64-8427-327aa4f7e9ed",
   "metadata": {},
   "source": [
    "**Step 2: Taking the pivot operation by using function pivot(T, enter, leave)** \n",
    "<br>\n",
    "**T**: the result matrix by step 1\n",
    "<br>\n",
    "**enter**: the column of entering variable, which is chosen the most positive coeffcient of non-basic variable from the last row of T, $\\mathbf{c}^T$.\n",
    "<br>\n",
    "**leave**: the row of leaving variable."
   ]
  },
  {
   "cell_type": "code",
   "execution_count": 16,
   "id": "672da3a3-fad5-487d-86e1-595410f8533e",
   "metadata": {},
   "outputs": [],
   "source": [
    "def pivot(T,enter,leave):\n",
    "    E = np.eye(T.shape[0])\n",
    "    E[:,leave] = -T[:,enter]/T[leave,enter]\n",
    "    E[leave,leave] = 1/T[leave,enter]\n",
    "    return E@T"
   ]
  },
  {
   "cell_type": "markdown",
   "id": "29e7b6ef-0380-409f-87e9-c05c4af18bee",
   "metadata": {},
   "source": [
    "### How to determine which row to leave ?"
   ]
  },
  {
   "cell_type": "markdown",
   "id": "2f0a0df9-8907-4380-aa35-5abba99bcfcd",
   "metadata": {},
   "source": [
    "In our example, we enter the column 2 from T. The other nonbasic variable in column 0 and 1 would be 0.\n",
    "<br>\n",
    "we now have"
   ]
  },
  {
   "cell_type": "markdown",
   "id": "ff138870-3084-43b1-8b98-7f9e0a37b715",
   "metadata": {},
   "source": [
    "$$\n",
    "T = \\left[ \\begin{array}{rrr} 0 & 0 & \\color{blue}{2}  & 1 & 0 & 0 & \\color{red}{4} \\\\ 0 & 0 & \\color{blue}{3} & 0 & 1 & 0 & \\color{red}{5} \\\\ 0 & 0 & \\color{blue}{3} & 0 & 0 & 1 & \\color{red}{7} \\\\ 3 & 2 & 4 & 0 & 0 & 0 & 0\\\\ \\end{array} \\right]\n",
    "$$"
   ]
  },
  {
   "cell_type": "markdown",
   "id": "047f8156-da7f-4b4d-a3e6-b4dcdc3f6c47",
   "metadata": {},
   "source": [
    "To get the least upper bound of basic variable, we use number in the last column (noted red) divide the enter column (noted blue), then pick the least result row to be the leaving row."
   ]
  },
  {
   "cell_type": "code",
   "execution_count": 24,
   "id": "673b33e2-0762-40b0-8e18-aa8d44320a42",
   "metadata": {},
   "outputs": [
    {
     "name": "stdout",
     "output_type": "stream",
     "text": [
      "[[-0.33  1.    0.    1.   -0.67  0.    0.67]\n",
      " [ 0.67  0.    1.    0.    0.33  0.    1.67]\n",
      " [ 0.    1.    0.    0.   -1.    1.    2.  ]\n",
      " [ 0.33  2.    0.    0.   -1.33  0.   -6.67]]\n"
     ]
    }
   ],
   "source": [
    "T1 = pivot(T, 2, 1)\n",
    "print(T1.round(2))"
   ]
  },
  {
   "cell_type": "code",
   "execution_count": 25,
   "id": "be49dd4a-fdaa-46fb-8e12-e8cb1ddc860b",
   "metadata": {},
   "outputs": [
    {
     "name": "stdout",
     "output_type": "stream",
     "text": [
      "[[-0.33  1.    0.    1.   -0.67  0.    0.67]\n",
      " [ 0.67  0.    1.    0.    0.33  0.    1.67]\n",
      " [ 0.33  0.    0.   -1.   -0.33  1.    1.33]\n",
      " [ 1.    0.    0.   -2.    0.    0.   -8.  ]]\n"
     ]
    }
   ],
   "source": [
    "T2 = pivot(T1, 1, 0)\n",
    "print(T2.round(2))"
   ]
  },
  {
   "cell_type": "code",
   "execution_count": 26,
   "id": "534bbf5f-b97c-4f99-9286-614f1df67c39",
   "metadata": {},
   "outputs": [
    {
     "name": "stdout",
     "output_type": "stream",
     "text": [
      "[[  0.    1.    0.5   1.   -0.5   0.    1.5]\n",
      " [  1.    0.    1.5   0.    0.5   0.    2.5]\n",
      " [  0.    0.   -0.5  -1.   -0.5   1.    0.5]\n",
      " [  0.    0.   -1.5  -2.   -0.5   0.  -10.5]]\n"
     ]
    }
   ],
   "source": [
    "T3 = pivot(T2, 0, 1)\n",
    "print(T3.round(2))"
   ]
  },
  {
   "cell_type": "markdown",
   "id": "71dd7a70-8c8d-43b9-a9b8-d12f279b7816",
   "metadata": {},
   "source": [
    "### Checking by using SciPy Solver "
   ]
  },
  {
   "cell_type": "code",
   "execution_count": 27,
   "id": "1341e0d6-93e9-459b-ba15-f9a50fd33991",
   "metadata": {},
   "outputs": [],
   "source": [
    "from scipy.optimize import linprog"
   ]
  },
  {
   "cell_type": "code",
   "execution_count": 28,
   "id": "60615da6-64cd-42bf-887d-0319706013cc",
   "metadata": {},
   "outputs": [
    {
     "data": {
      "text/plain": [
       "           con: array([], dtype=float64)\n",
       " crossover_nit: 0\n",
       "         eqlin:  marginals: array([], dtype=float64)\n",
       "  residual: array([], dtype=float64)\n",
       "           fun: -10.5\n",
       "       ineqlin:  marginals: array([-2. , -0.5, -0. ])\n",
       "  residual: array([0. , 0. , 0.5])\n",
       "         lower:  marginals: array([0. , 0. , 1.5])\n",
       "  residual: array([2.5, 1.5, 0. ])\n",
       "       message: 'Optimization terminated successfully. (HiGHS Status 7: Optimal)'\n",
       "           nit: 3\n",
       "         slack: array([0. , 0. , 0.5])\n",
       "        status: 0\n",
       "       success: True\n",
       "         upper:  marginals: array([0., 0., 0.])\n",
       "  residual: array([inf, inf, inf])\n",
       "             x: array([2.5, 1.5, 0. ])"
      ]
     },
     "execution_count": 28,
     "metadata": {},
     "output_type": "execute_result"
    }
   ],
   "source": [
    "A = np.array([[1.,1.,2.],[2.,0.,3.],[2.,1.,3.]])\n",
    "c = np.array([3.,2.,4.])\n",
    "b = np.array([4.,5.,7.]) \n",
    "linprog(-c,A,b)"
   ]
  },
  {
   "cell_type": "markdown",
   "id": "bae83e16-ba6b-4a2a-837d-f6b8c1f14442",
   "metadata": {},
   "source": [
    "By checking the "
   ]
  }
 ],
 "metadata": {
  "kernelspec": {
   "display_name": "Python 3 (ipykernel)",
   "language": "python",
   "name": "python3"
  },
  "language_info": {
   "codemirror_mode": {
    "name": "ipython",
    "version": 3
   },
   "file_extension": ".py",
   "mimetype": "text/x-python",
   "name": "python",
   "nbconvert_exporter": "python",
   "pygments_lexer": "ipython3",
   "version": "3.10.6"
  }
 },
 "nbformat": 4,
 "nbformat_minor": 5
}
