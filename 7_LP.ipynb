{
 "cells": [
  {
   "cell_type": "markdown",
   "id": "515a3dcb-3619-43e9-83ef-a6fd935815c5",
   "metadata": {},
   "source": [
    "### Learning Portfolio 7\n",
    "\n",
    "The project of this portolio is to solve a LP problem by using a new optimization model Pyomo."
   ]
  },
  {
   "cell_type": "code",
   "execution_count": 7,
   "id": "18811916-b799-47bf-9e64-4be38af15635",
   "metadata": {},
   "outputs": [
    {
     "name": "stdout",
     "output_type": "stream",
     "text": [
      "Collecting pyomo\n",
      "  Downloading Pyomo-6.4.4-cp310-cp310-manylinux_2_17_x86_64.manylinux2014_x86_64.whl (10.6 MB)\n",
      "\u001b[2K     \u001b[90m━━━━━━━━━━━━━━━━━━━━━━━━━━━━━━━━━━━━━━━━\u001b[0m \u001b[32m10.6/10.6 MB\u001b[0m \u001b[31m13.8 MB/s\u001b[0m eta \u001b[36m0:00:00\u001b[0m00:01\u001b[0m0:01\u001b[0m\n",
      "\u001b[?25hCollecting ply\n",
      "  Downloading ply-3.11-py2.py3-none-any.whl (49 kB)\n",
      "\u001b[2K     \u001b[90m━━━━━━━━━━━━━━━━━━━━━━━━━━━━━━━━━━━━━━━━\u001b[0m \u001b[32m49.6/49.6 kB\u001b[0m \u001b[31m1.9 MB/s\u001b[0m eta \u001b[36m0:00:00\u001b[0m\n",
      "\u001b[?25hInstalling collected packages: ply, pyomo\n",
      "Successfully installed ply-3.11 pyomo-6.4.4\n",
      "Note: you may need to restart the kernel to use updated packages.\n"
     ]
    }
   ],
   "source": [
    "pip install pyomo"
   ]
  },
  {
   "cell_type": "code",
   "execution_count": 79,
   "id": "ad217bd9-dfdb-4f62-9e54-d56f9124855b",
   "metadata": {},
   "outputs": [],
   "source": [
    "from pyomo.environ import *\n",
    "import pandas as pd"
   ]
  },
  {
   "cell_type": "markdown",
   "id": "e4df8e62-7f4f-43fe-a38a-a5ee6ca6a2ca",
   "metadata": {},
   "source": [
    "$$\n",
    "\\begin{array}{rc}\n",
    "\\text{Maximize:} & z = 3x_1 + 2x_2 + 4x_3  \\\\\n",
    "\\text{Subject to:} & x_1 + x_2 + 2x_3  \\leqslant  4 \\\\\n",
    "& 2x_1\\qquad + 3x_3 \\leqslant 5 \\\\\n",
    "& 2x_1 + x_2 + 3x_3 \\leqslant 7 \\\\\n",
    "& x_1 \\geq 0, x_2 \\geq 0, x_3\\geq 0\n",
    "\\end{array}\n",
    "$$\n"
   ]
  },
  {
   "cell_type": "markdown",
   "id": "9f769a03-c746-4cc2-ac30-0e19dc59befc",
   "metadata": {},
   "source": [
    "### The creation of a space for solving LP problem\n",
    "\n",
    "- By using the ConcreteModel() and assign as model, it gives us a white paper to start with the question."
   ]
  },
  {
   "cell_type": "code",
   "execution_count": 86,
   "id": "1b2c2833-94eb-4d46-a315-aadf1bf2a2e8",
   "metadata": {},
   "outputs": [],
   "source": [
    "model = ConcreteModel()"
   ]
  },
  {
   "cell_type": "markdown",
   "id": "1321aa39-df85-4176-8bfe-64b11f0f688a",
   "metadata": {},
   "source": [
    "### The variables\n",
    "\n",
    "- model.A: A is the name of variable adds to the model, here we add the non-negative real numnber to the model.\n",
    "- Var: a pyomo function for making decision variables.\n",
    "- Objective function: model.maximize by using Objective( exper = function, sense = maximize) to state the problem\n",
    "- Constraints: \n",
    "    1. model.Constraint1 \n",
    "    2. model.Constraint2  \n",
    "    3. model.Constraint3 \n",
    "    \n",
    "    The name of constraints can be change manully."
   ]
  },
  {
   "cell_type": "code",
   "execution_count": 89,
   "id": "4fdba1e0-eb8b-4333-aa1b-26abc8ebb244",
   "metadata": {},
   "outputs": [
    {
     "name": "stdout",
     "output_type": "stream",
     "text": [
      "Model unknown\n",
      "\n",
      "  Variables:\n",
      "    A : Size=1, Index=None\n",
      "        Key  : Lower : Value : Upper : Fixed : Stale : Domain\n",
      "        None :     0 :   2.5 :  None : False : False : NonNegativeReals\n",
      "    B : Size=1, Index=None\n",
      "        Key  : Lower : Value : Upper : Fixed : Stale : Domain\n",
      "        None :     0 :   1.5 :  None : False : False : NonNegativeReals\n",
      "    C : Size=1, Index=None\n",
      "        Key  : Lower : Value : Upper : Fixed : Stale : Domain\n",
      "        None :     0 :   0.0 :  None : False : False : NonNegativeReals\n",
      "\n",
      "  Objectives:\n",
      "    maximize : Size=1, Index=None, Active=True\n",
      "        Key  : Active : Value\n",
      "        None :   True :  10.5\n",
      "\n",
      "  Constraints:\n",
      "    Constraint1 : Size=1\n",
      "        Key  : Lower : Body : Upper\n",
      "        None :  None :  4.0 :   4.0\n",
      "    Constraint2 : Size=1\n",
      "        Key  : Lower : Body : Upper\n",
      "        None :  None :  5.0 :   5.0\n",
      "    Constraint3 : Size=1\n",
      "        Key  : Lower : Body : Upper\n",
      "        None :  None :  6.5 :   7.0\n"
     ]
    }
   ],
   "source": [
    "#model creation\n",
    "model = ConcreteModel()\n",
    "\n",
    "#variable\n",
    "model.A = Var(within = NonNegativeReals)\n",
    "model.B = Var(within = NonNegativeReals)\n",
    "model.C = Var(within = NonNegativeReals)\n",
    "\n",
    "#set the objective function\n",
    "model.maximize = Objective(expr = 3 * model.A + 2 * model.B + 4 * model.C, sense = maximize)\n",
    "\n",
    "#set the constraints\n",
    "model.Constraint1 = Constraint(expr = 1 * model.A + 1 * model.B + 2 * model.C <= 4)\n",
    "\n",
    "model.Constraint2 = Constraint(expr = 2 * model.A + 3 * model.C <= 5)\n",
    "\n",
    "model.Constraint3 = Constraint(expr = 2 * model.A + model.B + 3 * model.C <= 7)\n",
    "\n",
    "#The solver\n",
    "op = SolverFactory(\"glpk\")\n",
    "op.solve(model) \n",
    "\n",
    "#display the answer\n",
    "model.display()"
   ]
  },
  {
   "cell_type": "raw",
   "id": "a21f00ef-a9ec-452c-bde1-be9a7460f0fa",
   "metadata": {},
   "source": [
    "Objectives:\n",
    "    maximize : Size=1, Index=None, Active=True\n",
    "        Key  : Active : Value\n",
    "        None :   True :  10.5"
   ]
  },
  {
   "cell_type": "markdown",
   "id": "0af08775-39cd-404e-a541-4317ab5918c0",
   "metadata": {},
   "source": [
    "As the answer shown, the optimal value is 10.5 and for $x_{1} = 2.5$, $x_{2} = 1.5$, $x_{3} = 0.0$"
   ]
  },
  {
   "cell_type": "markdown",
   "id": "4da1bea2-6bc5-4d1e-a627-a01a8559301e",
   "metadata": {},
   "source": [
    "Learning Referece: \n",
    "- $\\href{http://edge.rit.edu/content/P18751/public/Google%20drive%20backup/Pyomo%20-%20Optimization%20Modeling%20in%20Python%2C%20Second%20Edition.pdf}{Pyomo\\ Optimization\\ Modeling \\ in\\ Python}$\n",
    "\n",
    "- $\\href{https://medium.com/@chongjingting/4-ways-to-solve-linear-programming-in-python-b4af36b7894d}{4 \\ Ways\\  to\\ Solve\\ Linear\\ Programming\\ in\\ Python}$\n"
   ]
  }
 ],
 "metadata": {
  "kernelspec": {
   "display_name": "Python 3 (ipykernel)",
   "language": "python",
   "name": "python3"
  },
  "language_info": {
   "codemirror_mode": {
    "name": "ipython",
    "version": 3
   },
   "file_extension": ".py",
   "mimetype": "text/x-python",
   "name": "python",
   "nbconvert_exporter": "python",
   "pygments_lexer": "ipython3",
   "version": "3.10.6"
  }
 },
 "nbformat": 4,
 "nbformat_minor": 5
}
