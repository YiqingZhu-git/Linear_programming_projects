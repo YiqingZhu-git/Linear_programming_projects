{
 "cells": [
  {
   "cell_type": "markdown",
   "id": "11bec83c-a313-4244-a023-ba94b75b46e0",
   "metadata": {},
   "source": [
    "## Learning Portfolio 5: Sudoku game solver by Backtracking and no size limitation"
   ]
  },
  {
   "cell_type": "markdown",
   "id": "e632ab1c-25ca-46f2-a03d-bad05b8e42b7",
   "metadata": {},
   "source": [
    "## Step 1: Set the print function\n",
    "**Input**: the grid matrix and the size of the aiming Sudoku.\n",
    "- How to define the size? Since Sudoku has the same column and row, the number of row/column is regarded as the **size** in the function.\n",
    "\n",
    "**Output**: the printing Sudoku game without the matrix notation.\n",
    "- How to print with the order of orgin Sudoku? From the first row, read and print the column from index 0 to 8 one by one, and then move to the next row.\n"
   ]
  },
  {
   "cell_type": "code",
   "execution_count": 4,
   "id": "f5123298-f584-43c2-b73c-7b514e1f1483",
   "metadata": {},
   "outputs": [],
   "source": [
    "def printer(grid, size):\n",
    "    for i in range(size):\n",
    "        for j in range(size):\n",
    "            print(grid[i][j], end = \" \")\n",
    "        print()"
   ]
  },
  {
   "cell_type": "markdown",
   "id": "806300ac-a483-40bc-9276-48da22478d6d",
   "metadata": {},
   "source": [
    "### Example: 9 * 9 Sudoku game print"
   ]
  },
  {
   "cell_type": "code",
   "execution_count": 5,
   "id": "20d7dda4-f4dd-4345-b089-c0692d97666a",
   "metadata": {},
   "outputs": [
    {
     "name": "stdout",
     "output_type": "stream",
     "text": [
      "3 0 6 5 0 8 4 0 0 \n",
      "5 2 0 0 0 0 0 0 0 \n",
      "0 8 7 0 0 0 0 3 1 \n",
      "0 0 3 0 1 0 0 8 0 \n",
      "9 0 0 8 6 3 0 0 5 \n",
      "0 5 0 0 9 0 6 0 0 \n",
      "1 3 0 0 0 0 2 5 0 \n",
      "0 0 0 0 0 0 0 7 4 \n",
      "0 0 5 2 0 6 3 0 0 \n"
     ]
    }
   ],
   "source": [
    "Sudoku_grid = [[3, 0, 6, 5, 0, 8, 4, 0, 0],\n",
    "        [5, 2, 0, 0, 0, 0, 0, 0, 0],\n",
    "        [0, 8, 7, 0, 0, 0, 0, 3, 1],\n",
    "        [0, 0, 3, 0, 1, 0, 0, 8, 0],\n",
    "        [9, 0, 0, 8, 6, 3, 0, 0, 5],\n",
    "        [0, 5, 0, 0, 9, 0, 6, 0, 0],\n",
    "        [1, 3, 0, 0, 0, 0, 2, 5, 0],\n",
    "        [0, 0, 0, 0, 0, 0, 0, 7, 4],\n",
    "        [0, 0, 5, 2, 0, 6, 3, 0, 0]]\n",
    "printer(Sudoku_grid, 9)"
   ]
  },
  {
   "cell_type": "markdown",
   "id": "87c039a8-b092-49c0-a7bf-a63a1c8977db",
   "metadata": {},
   "source": [
    "### Example: 16 * 16 Sudoku game print"
   ]
  },
  {
   "cell_type": "code",
   "execution_count": 18,
   "id": "8af49055-a738-40e7-8919-0c968f98847c",
   "metadata": {},
   "outputs": [
    {
     "name": "stdout",
     "output_type": "stream",
     "text": [
      "0 15 0 1 0 2 10 14 12 0 0 0 0 0 0 0 \n",
      "0 6 3 16 12 0 8 4 14 15 1 0 2 0 0 0 \n",
      "14 0 9 7 11 3 15 0 0 0 0 0 0 0 0 0 \n",
      "4 13 2 12 0 0 0 0 6 0 0 0 0 15 0 0 \n",
      "0 0 0 0 14 1 11 7 3 5 10 0 0 8 0 12 \n",
      "3 16 0 0 2 4 0 0 0 14 7 13 0 0 5 15 \n",
      "11 0 5 0 0 0 0 0 0 9 4 0 0 6 0 0 \n",
      "0 0 0 0 13 0 16 5 15 0 0 12 0 0 0 0 \n",
      "0 0 0 0 9 0 1 12 0 8 3 10 11 0 15 0 \n",
      "2 12 0 11 0 0 14 3 5 4 0 0 0 0 9 0 \n",
      "6 3 0 4 0 0 13 0 0 11 9 1 0 12 16 2 \n",
      "0 0 10 9 0 0 0 0 0 0 12 0 8 0 6 7 \n",
      "12 8 0 0 16 0 0 10 0 13 0 0 0 5 0 0 \n",
      "5 0 0 0 3 0 4 6 0 1 15 0 0 0 0 0 \n",
      "0 9 1 6 0 14 0 11 0 0 2 0 0 0 10 8 \n",
      "0 14 0 0 0 13 9 0 4 12 11 8 0 0 2 0 \n"
     ]
    }
   ],
   "source": [
    "Sudoku_grid1 = [[0, 15, 0, 1, 0, 2, 10, 14, 12, 0, 0, 0, 0, 0, 0, 0],\n",
    "                [0, 6, 3, 16, 12, 0, 8, 4, 14, 15, 1, 0, 2, 0, 0, 0],\n",
    "                [14, 0, 9, 7, 11, 3, 15, 0, 0, 0, 0, 0, 0, 0, 0,0],\n",
    "                [4, 13, 2, 12, 0, 0, 0, 0, 6, 0, 0, 0, 0, 15, 0, 0],\n",
    "                [0, 0, 0, 0, 14, 1, 11, 7, 3, 5, 10, 0, 0, 8, 0, 12],\n",
    "                [3, 16, 0, 0, 2, 4, 0, 0, 0, 14, 7, 13,0, 0, 5, 15],\n",
    "                [11, 0, 5, 0, 0, 0, 0, 0, 0, 9, 4, 0, 0, 6, 0, 0],\n",
    "                [0, 0, 0, 0, 13, 0, 16, 5, 15, 0, 0, 12, 0, 0, 0, 0],\n",
    "                [0 ,0, 0, 0, 9, 0, 1, 12, 0, 8, 3, 10, 11, 0, 15, 0],\n",
    "                [2, 12, 0, 11, 0, 0, 14, 3, 5, 4, 0, 0, 0, 0, 9, 0],\n",
    "                [6, 3, 0, 4, 0, 0, 13, 0, 0, 11, 9, 1, 0, 12, 16, 2],\n",
    "                [0, 0, 10, 9, 0, 0, 0, 0, 0, 0, 12, 0, 8, 0, 6, 7],\n",
    "                [12, 8, 0, 0, 16, 0, 0, 10, 0, 13, 0, 0, 0, 5, 0, 0],\n",
    "                [5, 0, 0, 0, 3 ,0, 4, 6, 0, 1, 15, 0, 0, 0, 0, 0],\n",
    "                [0, 9, 1, 6, 0, 14, 0, 11, 0, 0, 2, 0, 0, 0, 10, 8],\n",
    "                [0, 14, 0, 0, 0, 13, 9, 0, 4, 12, 11, 8, 0, 0, 2, 0]]\n",
    "\n",
    "printer(Sudoku_grid1,16)\n"
   ]
  },
  {
   "cell_type": "markdown",
   "id": "86860fe1-ae29-4c9d-b9a2-abae75345dbf",
   "metadata": {},
   "source": [
    "### Step 2: Checking for the safe number\n",
    "**Input**: the sudoku game martix grid, row index, column index, the number to check.\n",
    "\n",
    "**Process**: \n",
    "1. Checking the row: if there exists the same number in the row, then return False. \n",
    "2. Checking the column: We change the row index here, and if there exists the same number in the column, then the function returns False.\n",
    "3. Checking the small matrix the cell belongs:\n",
    "- How to determind the small matrix? \n",
    "\n",
    "The function aims to return the position of first number in the small matrix. For example, assuming in the 9*9 Sudoku matrix, the first index in the first small matrix is $[0,0]$. For any inputs are $[i,j]$ and $ 0 \\leq  i, j  \\leq 2 $, we search for $[0,0]$. And if the inputs are $[i,j]$ and $ 0 \\leq  i \\leq 2 $ and $ 3 \\leq  j \\leq 5$, we search for the index of the first number which is $[0,3]$\n",
    "\n",
    "We use the function: \n",
    "\\begin{align*}\n",
    "i-(i\\mod \\sqrt[2]{s}) \\quad j-(j\\mod \\sqrt[2]{s})\n",
    "\\end{align*}\n",
    "\n",
    "\\begin{align*}\n",
    "i: row \\: index \\quad  j: column\\:index  \\quad  s: size\\:of\\:the\\:sukudo\n",
    "\\end{align*}\n",
    "\n",
    "to find the starting index of the small matrix \n",
    "\n",
    "4. If there exsits the same number in its small matrix, returns False.\n",
    "\n",
    "**Output**:Boolean. If the function returns True, then the number will be temporarily assigned in the cell."
   ]
  },
  {
   "cell_type": "markdown",
   "id": "7d033002-c56c-4ef8-ac7f-c372d6b7ce3b",
   "metadata": {},
   "source": [
    "### Example: Coloring the starting index of each small matrix"
   ]
  },
  {
   "cell_type": "code",
   "execution_count": 19,
   "id": "7d0e7336-c56f-4420-a617-0f84b1dcf1b9",
   "metadata": {},
   "outputs": [
    {
     "name": "stdout",
     "output_type": "stream",
     "text": [
      "\u001b[1;36;43m3\u001b[0m 1 6 \u001b[1;36;43m5\u001b[0m 7 8 \u001b[1;36;43m4\u001b[0m 9 2 \n",
      "5 2 9 1 3 4 7 6 8 \n",
      "4 8 7 6 2 9 5 3 1 \n",
      "\u001b[1;36;43m2\u001b[0m 6 3 \u001b[1;36;43m4\u001b[0m 1 5 \u001b[1;36;43m9\u001b[0m 8 7 \n",
      "9 7 4 8 6 3 1 2 5 \n",
      "8 5 1 7 9 2 6 4 3 \n",
      "\u001b[1;36;43m1\u001b[0m 3 8 \u001b[1;36;43m9\u001b[0m 4 7 \u001b[1;36;43m2\u001b[0m 5 6 \n",
      "6 9 2 3 5 1 8 7 4 \n",
      "7 4 5 2 8 6 3 1 9 \n"
     ]
    }
   ],
   "source": [
    "import colorama\n",
    "from colorama import Fore\n",
    "\n",
    "## The function colors the first number in the small matrix\n",
    "def show_first_num(grid,size):\n",
    "    small_index = int(size**0.5)\n",
    "    for i in range(size):\n",
    "        for j in range(size):\n",
    "            SR = i - i % small_index \n",
    "            SC = j - j % small_index\n",
    "           \n",
    "            ## SR: the start row of the small matrix; SC: the start column of the small matrix;\n",
    "            ## \n",
    "            \n",
    "            if i == SR and j == SC:\n",
    "                a = grid[SR][SC]\n",
    "                print('\\033[1;36;43m'+ str(a)+'\\033[0m', end = \" \") ## If the index is the first number in the small matrix, color it\n",
    "            else:\n",
    "                print(grid[i][j], end = \" \")\n",
    "        print()\n",
    "            \n",
    "show_first_num(Sudoku_grid,9) \n"
   ]
  },
  {
   "cell_type": "code",
   "execution_count": 20,
   "id": "541054a7-4bc6-430b-8299-c1882ca75619",
   "metadata": {},
   "outputs": [
    {
     "name": "stdout",
     "output_type": "stream",
     "text": [
      "\u001b[1;36;43m0\u001b[0m 15 0 1 \u001b[1;36;43m0\u001b[0m 2 10 14 \u001b[1;36;43m12\u001b[0m 0 0 0 \u001b[1;36;43m0\u001b[0m 0 0 0 \n",
      "0 6 3 16 12 0 8 4 14 15 1 0 2 0 0 0 \n",
      "14 0 9 7 11 3 15 0 0 0 0 0 0 0 0 0 \n",
      "4 13 2 12 0 0 0 0 6 0 0 0 0 15 0 0 \n",
      "\u001b[1;36;43m0\u001b[0m 0 0 0 \u001b[1;36;43m14\u001b[0m 1 11 7 \u001b[1;36;43m3\u001b[0m 5 10 0 \u001b[1;36;43m0\u001b[0m 8 0 12 \n",
      "3 16 0 0 2 4 0 0 0 14 7 13 0 0 5 15 \n",
      "11 0 5 0 0 0 0 0 0 9 4 0 0 6 0 0 \n",
      "0 0 0 0 13 0 16 5 15 0 0 12 0 0 0 0 \n",
      "\u001b[1;36;43m0\u001b[0m 0 0 0 \u001b[1;36;43m9\u001b[0m 0 1 12 \u001b[1;36;43m0\u001b[0m 8 3 10 \u001b[1;36;43m11\u001b[0m 0 15 0 \n",
      "2 12 0 11 0 0 14 3 5 4 0 0 0 0 9 0 \n",
      "6 3 0 4 0 0 13 0 0 11 9 1 0 12 16 2 \n",
      "0 0 10 9 0 0 0 0 0 0 12 0 8 0 6 7 \n",
      "\u001b[1;36;43m12\u001b[0m 8 0 0 \u001b[1;36;43m16\u001b[0m 0 0 10 \u001b[1;36;43m0\u001b[0m 13 0 0 \u001b[1;36;43m0\u001b[0m 5 0 0 \n",
      "5 0 0 0 3 0 4 6 0 1 15 0 0 0 0 0 \n",
      "0 9 1 6 0 14 0 11 0 0 2 0 0 0 10 8 \n",
      "0 14 0 0 0 13 9 0 4 12 11 8 0 0 2 0 \n"
     ]
    }
   ],
   "source": [
    "show_first_num(Sudoku_grid1,16) "
   ]
  },
  {
   "cell_type": "markdown",
   "id": "9c7c5606-7b40-4d06-a08e-a24cfbcde08d",
   "metadata": {},
   "source": [
    "## Step 3: Build the Solver"
   ]
  },
  {
   "cell_type": "code",
   "execution_count": 21,
   "id": "b8590dad-35ed-43ee-9a24-e8b972e36d06",
   "metadata": {},
   "outputs": [],
   "source": [
    "def is_safe(grid, row, column, num, size):\n",
    "    \n",
    "    #check for the row  \n",
    "    for i in range(size):\n",
    "        if (grid[row][i] == num):\n",
    "            return False\n",
    "    \n",
    "    #detect the column\n",
    "    for i in range(size):\n",
    "        if (grid[i][column] == num):\n",
    "            return False\n",
    "    s = int(size**0.5)\n",
    "     #detect the 3*3 matrix\n",
    "    SR = row - row % s\n",
    "    SC = column - column % s\n",
    "    for i in range(s):\n",
    "        for j in range(s):\n",
    "            if grid[SR + i][SC + j] == num:\n",
    "                return False\n",
    "    \n",
    "    return True\n",
    "\n",
    "\n",
    "    \n",
    "def SudokuGame(grid, row, column, size):\n",
    "    \n",
    "    n = size - 1\n",
    "    \n",
    "    # 1.To determined whether we are in the last cell\n",
    "    # If returns True in this step, which means that we have finished all steps and the backtracking work.\n",
    "    # and it is a complete grid that every cells has been assgined its right value.\n",
    "    if (row == n and column > n):\n",
    "        return True\n",
    "    \n",
    "    # 2. The tool step for changing the column. \n",
    "    if (column > n):\n",
    "        row+=1\n",
    "        column = 0\n",
    "    \n",
    "    # 3.The step for checking if the cell is empty. Empty means 0, if not, call the function and check for the next one.\n",
    "    if grid[row][column] > 0:\n",
    "        return SudokuGame(grid, row, column + 1, size)\n",
    "    \n",
    "    # 4. To check if the number 1-9 can be assigned to this cell\n",
    "    for num in range (1,10,1):\n",
    "        \n",
    "        #We assign the first safe number and check the rest cells until we find the first invaild cell\n",
    "        #In our case of Sudoku_grid the first invalid is grid[1][8]\n",
    "        if is_safe(grid, row, column, num, size):\n",
    "            \n",
    "            grid[row][column] = num\n",
    "            \n",
    "            if SudokuGame(grid, row, column+1, size): \n",
    "                #if SudokuSolver return False, it means that there is no safe number on that cell, then we set the unknown cell as 0.\n",
    "                #Then the algorithm sets the last node as 0 and tries the different number on that cell.\n",
    "                return True\n",
    "        \n",
    "        grid[row][column] = 0\n",
    "    \n",
    "    return False\n",
    "    \n"
   ]
  },
  {
   "cell_type": "code",
   "execution_count": 22,
   "id": "be26618b-7f1c-4f94-a770-a277dfc44767",
   "metadata": {},
   "outputs": [
    {
     "data": {
      "text/plain": [
       "True"
      ]
     },
     "execution_count": 22,
     "metadata": {},
     "output_type": "execute_result"
    }
   ],
   "source": [
    "SudokuGame(Sudoku_grid, 0, 0, 9)"
   ]
  },
  {
   "cell_type": "code",
   "execution_count": 23,
   "id": "691a3126-4c8f-4161-b141-849118a62f55",
   "metadata": {},
   "outputs": [
    {
     "name": "stdout",
     "output_type": "stream",
     "text": [
      "3 1 6 5 7 8 4 9 2 \n",
      "5 2 9 1 3 4 7 6 8 \n",
      "4 8 7 6 2 9 5 3 1 \n",
      "2 6 3 4 1 5 9 8 7 \n",
      "9 7 4 8 6 3 1 2 5 \n",
      "8 5 1 7 9 2 6 4 3 \n",
      "1 3 8 9 4 7 2 5 6 \n",
      "6 9 2 3 5 1 8 7 4 \n",
      "7 4 5 2 8 6 3 1 9 \n"
     ]
    }
   ],
   "source": [
    "printer(Sudoku_grid,9)"
   ]
  },
  {
   "cell_type": "markdown",
   "id": "135551f0-a450-49e9-88df-a446b172a590",
   "metadata": {},
   "source": [
    "### Try other model"
   ]
  },
  {
   "cell_type": "code",
   "execution_count": 24,
   "id": "7b6aa083-8ce0-41ef-8e80-f4c5e345f097",
   "metadata": {},
   "outputs": [],
   "source": [
    "S = [[3,0,0,8,0,0,0,0,1],\n",
    "     [0,0,0,0,0,2,0,0,0],\n",
    "     [0,4,1,5,0,0,8,3,0],\n",
    "     [0,2,0,0,0,1,0,0,0],\n",
    "     [8,5,0,4,0,3,0,1,7],\n",
    "     [0,0,0,7,0,0,0,2,0],\n",
    "     [0,8,5,0,0,9,7,4,0],\n",
    "     [0,0,0,1,0,0,0,0,0],\n",
    "     [9,0,0,0,0,7,0,0,6]]"
   ]
  },
  {
   "cell_type": "code",
   "execution_count": 25,
   "id": "b4dc89dc-ef09-4e55-84c7-39c1a332d9ca",
   "metadata": {},
   "outputs": [
    {
     "name": "stdout",
     "output_type": "stream",
     "text": [
      "3 6 7 8 9 4 2 5 1 \n",
      "5 9 8 3 1 2 6 7 4 \n",
      "2 4 1 5 7 6 8 3 9 \n",
      "7 2 3 9 8 1 4 6 5 \n",
      "8 5 6 4 2 3 9 1 7 \n",
      "4 1 9 7 6 5 3 2 8 \n",
      "1 8 5 6 3 9 7 4 2 \n",
      "6 7 2 1 4 8 5 9 3 \n",
      "9 3 4 2 5 7 1 8 6 \n"
     ]
    }
   ],
   "source": [
    "if (SudokuGame(S, 0, 0, 9) == True):\n",
    "    printer(S,9)"
   ]
  },
  {
   "cell_type": "code",
   "execution_count": 27,
   "id": "228c862c-580a-459c-aeb7-0e2ec68ee66b",
   "metadata": {},
   "outputs": [],
   "source": [
    "if (SudokuGame(Sudoku_grid1, 0, 0, 16) == True):\n",
    "    printer(Sudoku_grid1,16)"
   ]
  },
  {
   "cell_type": "code",
   "execution_count": null,
   "id": "b7410c46-c6ba-49b6-b6f5-f1e035d36554",
   "metadata": {},
   "outputs": [],
   "source": []
  }
 ],
 "metadata": {
  "kernelspec": {
   "display_name": "Python 3 (ipykernel)",
   "language": "python",
   "name": "python3"
  },
  "language_info": {
   "codemirror_mode": {
    "name": "ipython",
    "version": 3
   },
   "file_extension": ".py",
   "mimetype": "text/x-python",
   "name": "python",
   "nbconvert_exporter": "python",
   "pygments_lexer": "ipython3",
   "version": "3.10.6"
  }
 },
 "nbformat": 4,
 "nbformat_minor": 5
}
